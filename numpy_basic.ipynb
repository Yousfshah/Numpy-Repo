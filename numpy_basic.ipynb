{
 "cells": [
  {
   "cell_type": "markdown",
   "id": "d2e1094a",
   "metadata": {},
   "source": [
    "#### Written by: Yousuf Shah\n",
    "#### Subject: Numpy Tips And Trics\n",
    "#### Date: 06.22.2024\n",
    "#### Email: contact.ys09@gmail.com"
   ]
  },
  {
   "cell_type": "markdown",
   "id": "d970b91d",
   "metadata": {},
   "source": [
    "# Numpy\n",
    "---"
   ]
  },
  {
   "cell_type": "code",
   "execution_count": 25,
   "id": "60eafbf4-ce1d-480d-9b86-2917952dd308",
   "metadata": {},
   "outputs": [],
   "source": [
    "# Import libraries\n",
    "import numpy as np\n",
    "import pandas as pd"
   ]
  },
  {
   "cell_type": "markdown",
   "id": "cb9d8591",
   "metadata": {},
   "source": [
    "# Create a 1D array"
   ]
  },
  {
   "cell_type": "code",
   "execution_count": 26,
   "id": "e7f28a97-a0fc-4102-813a-1ced91616e26",
   "metadata": {},
   "outputs": [
    {
     "name": "stdout",
     "output_type": "stream",
     "text": [
      "(9,)\n",
      "[0 1 2 3 4 5 6 7 8]\n"
     ]
    }
   ],
   "source": [
    "a=np.arange(9)\n",
    "print(a.shape)\n",
    "print(a)"
   ]
  },
  {
   "cell_type": "markdown",
   "id": "f7c4f16c",
   "metadata": {},
   "source": [
    "# create a 2D array "
   ]
  },
  {
   "cell_type": "code",
   "execution_count": 27,
   "id": "87112da9-8c64-4bf5-b3df-94b7aeed47c9",
   "metadata": {},
   "outputs": [
    {
     "name": "stdout",
     "output_type": "stream",
     "text": [
      "[[0 1 2 3 4 5 6 7 8]]\n",
      "(1, 9)\n",
      "[[0]\n",
      " [1]\n",
      " [2]\n",
      " [3]\n",
      " [4]\n",
      " [5]\n",
      " [6]\n",
      " [7]\n",
      " [8]]\n"
     ]
    },
    {
     "data": {
      "text/plain": [
       "(9, 1)"
      ]
     },
     "execution_count": 27,
     "metadata": {},
     "output_type": "execute_result"
    }
   ],
   "source": [
    "b=a[np.newaxis, :]\n",
    "print(b)\n",
    "print(b.shape)\n",
    "# change shape\n",
    "b=a[: ,np.newaxis]\n",
    "print(b)\n",
    "b.shape\n"
   ]
  },
  {
   "cell_type": "code",
   "execution_count": 28,
   "id": "3249da6d-4309-4a3c-9dce-b143e7f19de4",
   "metadata": {},
   "outputs": [
    {
     "data": {
      "text/plain": [
       "np.int64(6)"
      ]
     },
     "execution_count": 28,
     "metadata": {},
     "output_type": "execute_result"
    }
   ],
   "source": [
    "# 2D Array\n",
    "arr_2d = np.array([[1, 2, 3], [4, 5, 6]])\n",
    "\n",
    "# Access element at row 1, column 2 (second element in the second row)\n",
    "element_2d = arr_2d[1, 2]  # element_2d will be 6\n",
    "element_2d\n",
    "# print(arr_2d)\n",
    "# arr_2d.shape"
   ]
  },
  {
   "cell_type": "markdown",
   "id": "59f7c1f6",
   "metadata": {},
   "source": [
    "# Create a 3D Array"
   ]
  },
  {
   "cell_type": "code",
   "execution_count": 29,
   "id": "7334ee3d-2a72-4970-ac2d-b446c268dcf6",
   "metadata": {},
   "outputs": [
    {
     "name": "stdout",
     "output_type": "stream",
     "text": [
      "(2, 2, 3)\n"
     ]
    },
    {
     "data": {
      "text/plain": [
       "array([[[ 1,  2,  3],\n",
       "        [ 4,  5,  6]],\n",
       "\n",
       "       [[ 7,  8,  9],\n",
       "        [10, 11, 12]]])"
      ]
     },
     "execution_count": 29,
     "metadata": {},
     "output_type": "execute_result"
    }
   ],
   "source": [
    "arr_3d = np.array([[[1, 2, 3], [4, 5, 6]], [[7, 8, 9], [10, 11, 12]]])\n",
    "\n",
    "# Access element at depth 0, row 1, column 0 (first element in the second row of the first \"slice\")\n",
    "element_3d = arr_3d[1, 0, 1]  # element_3d will be 5\n",
    "# arr_3d.shape\n",
    "print(arr_3d.shape)\n",
    "arr_3d\n"
   ]
  },
  {
   "cell_type": "markdown",
   "id": "03d56bc1",
   "metadata": {},
   "source": [
    "# Create a Zero Array\n"
   ]
  },
  {
   "cell_type": "code",
   "execution_count": 30,
   "id": "aa125140-a713-4adb-8f59-87ba3ba5f4c9",
   "metadata": {},
   "outputs": [
    {
     "data": {
      "text/plain": [
       "array([[[0., 0., 0., 0.],\n",
       "        [0., 0., 0., 0.]]])"
      ]
     },
     "execution_count": 30,
     "metadata": {},
     "output_type": "execute_result"
    }
   ],
   "source": [
    "zero_array=np.zeros((1,2,4))\n",
    "zero_array\n"
   ]
  },
  {
   "cell_type": "markdown",
   "id": "48248498",
   "metadata": {},
   "source": [
    "# Create a One Array\n"
   ]
  },
  {
   "cell_type": "code",
   "execution_count": 31,
   "id": "1fa13b15-9137-4e5f-8458-a15c1e64db9f",
   "metadata": {},
   "outputs": [
    {
     "data": {
      "text/plain": [
       "array([[[1., 1., 1., 1.],\n",
       "        [1., 1., 1., 1.]],\n",
       "\n",
       "       [[1., 1., 1., 1.],\n",
       "        [1., 1., 1., 1.]],\n",
       "\n",
       "       [[1., 1., 1., 1.],\n",
       "        [1., 1., 1., 1.]]])"
      ]
     },
     "execution_count": 31,
     "metadata": {},
     "output_type": "execute_result"
    }
   ],
   "source": [
    "one_array=np.ones((3,2,4))\n",
    "one_array"
   ]
  },
  {
   "cell_type": "markdown",
   "id": "e6aafc12",
   "metadata": {},
   "source": [
    "# Create a Full Array"
   ]
  },
  {
   "cell_type": "code",
   "execution_count": 32,
   "id": "8d4bd526-a36e-4dd0-9a2a-f3280805f7c4",
   "metadata": {},
   "outputs": [
    {
     "data": {
      "text/plain": [
       "array([[[5, 5, 5, 5],\n",
       "        [5, 5, 5, 5],\n",
       "        [5, 5, 5, 5]],\n",
       "\n",
       "       [[5, 5, 5, 5],\n",
       "        [5, 5, 5, 5],\n",
       "        [5, 5, 5, 5]]])"
      ]
     },
     "execution_count": 32,
     "metadata": {},
     "output_type": "execute_result"
    }
   ],
   "source": [
    "full_array=np.full((2,3,4), 5)\n",
    "full_array"
   ]
  },
  {
   "cell_type": "markdown",
   "id": "1bcee346",
   "metadata": {},
   "source": [
    "# Create a Identity Matrix"
   ]
  },
  {
   "cell_type": "code",
   "execution_count": 33,
   "id": "c4b55493-9dc4-443c-8773-ef90fa28e3f7",
   "metadata": {},
   "outputs": [
    {
     "data": {
      "text/plain": [
       "array([[1., 0., 0., 0., 0., 0., 0.],\n",
       "       [0., 1., 0., 0., 0., 0., 0.],\n",
       "       [0., 0., 1., 0., 0., 0., 0.],\n",
       "       [0., 0., 0., 1., 0., 0., 0.],\n",
       "       [0., 0., 0., 0., 1., 0., 0.],\n",
       "       [0., 0., 0., 0., 0., 1., 0.],\n",
       "       [0., 0., 0., 0., 0., 0., 1.]])"
      ]
     },
     "execution_count": 33,
     "metadata": {},
     "output_type": "execute_result"
    }
   ],
   "source": [
    "identity_matrix=np.eye(7)\n",
    "identity_matrix"
   ]
  },
  {
   "cell_type": "markdown",
   "id": "4ec311f2",
   "metadata": {},
   "source": [
    "# Make an empty array near to zero values"
   ]
  },
  {
   "cell_type": "code",
   "execution_count": 34,
   "id": "34097cf9-a733-4280-800b-c317f1ef56bd",
   "metadata": {},
   "outputs": [
    {
     "data": {
      "text/plain": [
       "array([[4.9e-324, 9.9e-324, 1.5e-323],\n",
       "       [2.0e-323, 2.5e-323, 3.0e-323]])"
      ]
     },
     "execution_count": 34,
     "metadata": {},
     "output_type": "execute_result"
    }
   ],
   "source": [
    "np.empty((2,3)) # Matrix"
   ]
  },
  {
   "cell_type": "markdown",
   "id": "939488fb",
   "metadata": {},
   "source": [
    "# Create a Specific Array"
   ]
  },
  {
   "cell_type": "code",
   "execution_count": 35,
   "id": "476dd66a-e1d5-4d8f-af56-6697c93b283b",
   "metadata": {},
   "outputs": [
    {
     "data": {
      "text/plain": [
       "array([ 3,  7, 11, 15, 19])"
      ]
     },
     "execution_count": 35,
     "metadata": {},
     "output_type": "execute_result"
    }
   ],
   "source": [
    "# make an specific array 3 is starting number 4 is increament 20 is where we end the number\n",
    "np.arange(3,20,4)"
   ]
  },
  {
   "cell_type": "code",
   "execution_count": 36,
   "id": "1180fd68-00f8-4b1e-9536-739c42c5a789",
   "metadata": {},
   "outputs": [
    {
     "data": {
      "text/plain": [
       "array([ 0,  2,  4,  6,  8, 10, 12, 14, 16, 18, 20, 22, 24])"
      ]
     },
     "execution_count": 36,
     "metadata": {},
     "output_type": "execute_result"
    }
   ],
   "source": [
    "# make even numbers\n",
    "np.arange(0,25,2)"
   ]
  },
  {
   "cell_type": "code",
   "execution_count": 37,
   "id": "b8bed772-1b1c-4f13-bb48-04465e3ac3e4",
   "metadata": {},
   "outputs": [
    {
     "data": {
      "text/plain": [
       "array([ 1,  3,  5,  7,  9, 11, 13, 15, 17, 19, 21, 23])"
      ]
     },
     "execution_count": 37,
     "metadata": {},
     "output_type": "execute_result"
    }
   ],
   "source": [
    "# make odd numbers\n",
    "np.arange(1,25,2)"
   ]
  },
  {
   "cell_type": "markdown",
   "id": "02365317",
   "metadata": {},
   "source": [
    "# Set Linear Trend "
   ]
  },
  {
   "cell_type": "code",
   "execution_count": 38,
   "id": "bb0e0a96-5416-4876-8caf-9cd9bf16b10f",
   "metadata": {},
   "outputs": [
    {
     "name": "stdout",
     "output_type": "stream",
     "text": [
      "[ 0.  1.  2.  3.  4.  5.  6.  7.  8.  9. 10.]\n"
     ]
    }
   ],
   "source": [
    "# set linear trend between numbers \n",
    "lin=np.linspace(0, 10, num=11)\n",
    "print(lin)"
   ]
  },
  {
   "cell_type": "markdown",
   "id": "dcab8daf",
   "metadata": {},
   "source": [
    "# Convert Float Array To Int Dtype Array"
   ]
  },
  {
   "cell_type": "code",
   "execution_count": 39,
   "id": "1d40640d-b302-43de-a069-2cfa54e7e0cc",
   "metadata": {},
   "outputs": [
    {
     "name": "stdout",
     "output_type": "stream",
     "text": [
      "float dtype [1. 1.]\n",
      "----------------------------\n",
      "Convert into int dtype [1 1]\n"
     ]
    }
   ],
   "source": [
    "# Convert array float to int dtype\n",
    "float_dtype=np.ones(2)\n",
    "print(f'float dtype {float_dtype}')\n",
    "print('----------------------------')\n",
    "change_into_int_dtype=np.ones(2, dtype=np.int64)\n",
    "print(f'Convert into int dtype {change_into_int_dtype}')"
   ]
  },
  {
   "cell_type": "markdown",
   "id": "5a814a25",
   "metadata": {},
   "source": [
    "# Sorting array"
   ]
  },
  {
   "cell_type": "code",
   "execution_count": 40,
   "id": "e32173c0-0c73-4729-aca7-441f1ce2db56",
   "metadata": {},
   "outputs": [
    {
     "name": "stdout",
     "output_type": "stream",
     "text": [
      "[  1   2   2   3   3   4   4   5   5   6   7 234]\n"
     ]
    }
   ],
   "source": [
    "arr=np.array([1,2,3,4,5,6,7,2,234,5,4,3])\n",
    "print(np.sort(arr))"
   ]
  },
  {
   "cell_type": "markdown",
   "id": "a2dcc36f-726c-4438-b314-056b5e275d26",
   "metadata": {},
   "source": [
    "# Concatenate Array"
   ]
  },
  {
   "cell_type": "code",
   "execution_count": 41,
   "id": "9dcfbc3d-1381-4d68-8ea5-868f0609e74d",
   "metadata": {},
   "outputs": [],
   "source": [
    "x=np.array([[1, 2], [3, 4]]) # 2X2 array\n",
    "y=np.array([[5, 6], [7, 8]]) # 2X2 array"
   ]
  },
  {
   "cell_type": "code",
   "execution_count": 42,
   "id": "d7db5ed0-b570-4fb8-8079-3237955bb595",
   "metadata": {
    "scrolled": true
   },
   "outputs": [
    {
     "name": "stdout",
     "output_type": "stream",
     "text": [
      "[[1 2 5 6]\n",
      " [3 4 7 8]]\n"
     ]
    }
   ],
   "source": [
    "# concatenate 2D array\n",
    "z=np.concatenate((x,y), axis=1) # if we use axis=1 than shape of arrays must be same \n",
    "print(z)"
   ]
  },
  {
   "cell_type": "markdown",
   "id": "4620095c-82b2-4513-8a8b-fe38fc0ea3e7",
   "metadata": {},
   "source": [
    "# Reshape array"
   ]
  },
  {
   "cell_type": "code",
   "execution_count": 43,
   "id": "1b88be72",
   "metadata": {},
   "outputs": [
    {
     "data": {
      "text/plain": [
       "array([[[0, 1, 2, 3],\n",
       "        [4, 5, 6, 7]],\n",
       "\n",
       "       [[0, 1, 2, 3],\n",
       "        [4, 5, 6, 7]],\n",
       "\n",
       "       [[0, 1, 2, 3],\n",
       "        [4, 5, 6, 7]]])"
      ]
     },
     "execution_count": 43,
     "metadata": {},
     "output_type": "execute_result"
    }
   ],
   "source": [
    "array_example = np.array([[[0, 1, 2, 3],\n",
    "                           [4, 5, 6, 7]],\n",
    "\n",
    "                          [[0, 1, 2, 3],\n",
    "                           [4, 5, 6, 7]],\n",
    "                        \n",
    "                          [[0 ,1 ,2, 3],\n",
    "                           [4, 5, 6, 7]]])\n",
    "array_example"
   ]
  },
  {
   "cell_type": "code",
   "execution_count": 44,
   "id": "32efb10f-980e-485d-866d-eafef4ad9860",
   "metadata": {},
   "outputs": [
    {
     "data": {
      "text/plain": [
       "(3, 2, 4)"
      ]
     },
     "execution_count": 44,
     "metadata": {},
     "output_type": "execute_result"
    }
   ],
   "source": [
    "# check shape\n",
    "array_example.shape"
   ]
  },
  {
   "cell_type": "code",
   "execution_count": 45,
   "id": "b83f36f1-7f21-4e62-a891-791b0464fdc7",
   "metadata": {},
   "outputs": [],
   "source": [
    "# reshpae 3D array size of the arrays must be same\n",
    "reshaped=array_example.reshape(3,4,2)"
   ]
  },
  {
   "cell_type": "code",
   "execution_count": 46,
   "id": "7662d108-2bca-4b36-accd-15cc07a93af8",
   "metadata": {},
   "outputs": [
    {
     "data": {
      "text/plain": [
       "(3, 4, 2)"
      ]
     },
     "execution_count": 46,
     "metadata": {},
     "output_type": "execute_result"
    }
   ],
   "source": [
    "# check shape\n",
    "reshaped.shape"
   ]
  },
  {
   "cell_type": "code",
   "execution_count": 47,
   "id": "d44b8bcc-1d80-4649-a7a3-550b15b76801",
   "metadata": {},
   "outputs": [
    {
     "name": "stdout",
     "output_type": "stream",
     "text": [
      "[[[0 1]\n",
      "  [2 3]\n",
      "  [4 5]\n",
      "  [6 7]]\n",
      "\n",
      " [[0 1]\n",
      "  [2 3]\n",
      "  [4 5]\n",
      "  [6 7]]\n",
      "\n",
      " [[0 1]\n",
      "  [2 3]\n",
      "  [4 5]\n",
      "  [6 7]]]\n"
     ]
    }
   ],
   "source": [
    "# check result\n",
    "print(reshaped)"
   ]
  },
  {
   "cell_type": "code",
   "execution_count": null,
   "id": "ba61b40c-6e3a-4bbb-96de-787c3ac29dbd",
   "metadata": {},
   "outputs": [],
   "source": []
  }
 ],
 "metadata": {
  "kernelspec": {
   "display_name": "Python 3 (ipykernel)",
   "language": "python",
   "name": "python3"
  },
  "language_info": {
   "codemirror_mode": {
    "name": "ipython",
    "version": 3
   },
   "file_extension": ".py",
   "mimetype": "text/x-python",
   "name": "python",
   "nbconvert_exporter": "python",
   "pygments_lexer": "ipython3",
   "version": "3.12.1"
  }
 },
 "nbformat": 4,
 "nbformat_minor": 5
}
